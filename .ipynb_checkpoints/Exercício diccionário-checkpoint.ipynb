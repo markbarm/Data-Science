{
 "cells": [
  {
   "cell_type": "markdown",
   "metadata": {},
   "source": [
    "Exercício sobre dicionário. Dado uma lista criar um script para gerar um dicionário contendo um elemento distinto e número de repetições dentro da lista. "
   ]
  },
  {
   "cell_type": "code",
   "execution_count": 1,
   "metadata": {},
   "outputs": [],
   "source": [
    "lista = ['a', 'a', 'b', 'a', 'c', 'd', 'e', 'b', 'b', 'c','e','d','f']"
   ]
  },
  {
   "cell_type": "code",
   "execution_count": 2,
   "metadata": {},
   "outputs": [],
   "source": [
    "lista.sort()"
   ]
  },
  {
   "cell_type": "code",
   "execution_count": 3,
   "metadata": {},
   "outputs": [
    {
     "name": "stdout",
     "output_type": "stream",
     "text": [
      "{'a': 3, 'b': 3, 'c': 2, 'd': 2, 'e': 2, 'f': 1}\n"
     ]
    }
   ],
   "source": [
    "dicionario={}\n",
    "contador = 0\n",
    "teste = lista[0]\n",
    "for elemento in lista:\n",
    "    if elemento == teste:\n",
    "        contador += 1\n",
    "    else:\n",
    "        dicionario[teste] = contador\n",
    "        teste = elemento\n",
    "        contador = 1\n",
    "dicionario[teste] = contador\n",
    "print(dicionario)"
   ]
  }
 ],
 "metadata": {
  "kernelspec": {
   "display_name": "Python 3",
   "language": "python",
   "name": "python3"
  },
  "language_info": {
   "codemirror_mode": {
    "name": "ipython",
    "version": 3
   },
   "file_extension": ".py",
   "mimetype": "text/x-python",
   "name": "python",
   "nbconvert_exporter": "python",
   "pygments_lexer": "ipython3",
   "version": "3.8.5"
  }
 },
 "nbformat": 4,
 "nbformat_minor": 4
}
